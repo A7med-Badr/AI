{
  "cells": [
    {
      "cell_type": "code",
      "execution_count": 1,
      "metadata": {
        "id": "pUkByP7va7fn"
      },
      "outputs": [],
      "source": [
        "import numpy as np # linear algebra\n",
        "import pandas as pd # data processing, CSV file I/O (e.g. pd.read_csv)\n",
        "import tensorflow as tf\n",
        "from tensorflow import feature_column\n",
        "from tensorflow.keras import layers\n",
        "from sklearn.model_selection import train_test_split\n",
        "import matplotlib.pyplot as plt\n",
        "import seaborn as sns"
      ]
    },
    {
      "cell_type": "code",
      "execution_count": 3,
      "metadata": {
        "colab": {
          "base_uri": "https://localhost:8080/"
        },
        "id": "gDHdkEVVbSj9",
        "outputId": "daf2d244-6c5c-458b-83e2-2259035496ad"
      },
      "outputs": [
        {
          "output_type": "execute_result",
          "data": {
            "text/plain": [
              "age               0\n",
              "workclass         0\n",
              "fnlwgt            0\n",
              "education         0\n",
              "education-num     0\n",
              "marital-status    0\n",
              "occupation        0\n",
              "relationship      0\n",
              "race              0\n",
              "sex               0\n",
              "capital-gain      0\n",
              "capital-loss      0\n",
              "hours-per-week    0\n",
              "native-country    0\n",
              "income            0\n",
              "dtype: int64"
            ]
          },
          "metadata": {},
          "execution_count": 3
        }
      ],
      "source": [
        "dataset = pd.read_csv(\"income_evaluation.csv\",skipinitialspace=True)\n",
        "\n",
        "# Check for Null Data\n",
        "dataset.isnull().sum()"
      ]
    },
    {
      "cell_type": "code",
      "execution_count": 8,
      "metadata": {
        "colab": {
          "base_uri": "https://localhost:8080/"
        },
        "id": "Mw-poLUIb310",
        "outputId": "108ebd1f-6145-4b15-8038-c9d68636e350"
      },
      "outputs": [
        {
          "output_type": "execute_result",
          "data": {
            "text/plain": [
              "age               0\n",
              "workclass         0\n",
              "fnlwgt            0\n",
              "education         0\n",
              "education-num     0\n",
              "marital-status    0\n",
              "occupation        0\n",
              "relationship      0\n",
              "race              0\n",
              "sex               0\n",
              "capital-gain      0\n",
              "capital-loss      0\n",
              "hours-per-week    0\n",
              "native-country    0\n",
              "income            0\n",
              "dtype: int64"
            ]
          },
          "metadata": {},
          "execution_count": 8
        }
      ],
      "source": [
        "dataset[\"workclass\"] = dataset[\"workclass\"].fillna(\"X\")\n",
        "dataset[\"occupation\"] = dataset[\"occupation\"].fillna(\"X\")\n",
        "dataset[\"native-country\"] = dataset[\"native-country\"].fillna(\"United-States\")\n",
        "\n",
        "# Confirm All Missing Data is Handled\n",
        "dataset.isnull().sum()"
      ]
    },
    {
      "cell_type": "code",
      "execution_count": 4,
      "metadata": {
        "colab": {
          "base_uri": "https://localhost:8080/"
        },
        "id": "Lk0BAJphbvU4",
        "outputId": "0f74ccef-5e4b-43c4-feed-777f9be9e0b4"
      },
      "outputs": [
        {
          "output_type": "execute_result",
          "data": {
            "text/plain": [
              "age                int64\n",
              "workclass         object\n",
              "fnlwgt             int64\n",
              "education         object\n",
              "education-num      int64\n",
              "marital-status    object\n",
              "occupation        object\n",
              "relationship      object\n",
              "race              object\n",
              "sex               object\n",
              "capital-gain       int64\n",
              "capital-loss       int64\n",
              "hours-per-week     int64\n",
              "native-country    object\n",
              "income            object\n",
              "dtype: object"
            ]
          },
          "metadata": {},
          "execution_count": 4
        }
      ],
      "source": [
        "dataset.dtypes\n"
      ]
    },
    {
      "cell_type": "code",
      "execution_count": 6,
      "metadata": {
        "colab": {
          "base_uri": "https://localhost:8080/",
          "height": 378
        },
        "id": "ZG9iEoB1bxxe",
        "outputId": "fdc893b3-c6e8-4c3c-c988-e8d17e82a416"
      },
      "outputs": [
        {
          "output_type": "execute_result",
          "data": {
            "text/plain": [
              "   age         workclass  fnlwgt  education  education-num  \\\n",
              "0   39         State-gov   77516  Bachelors             13   \n",
              "1   50  Self-emp-not-inc   83311  Bachelors             13   \n",
              "2   38           Private  215646    HS-grad              9   \n",
              "3   53           Private  234721       11th              7   \n",
              "\n",
              "       marital-status         occupation   relationship   race   sex  \\\n",
              "0       Never-married       Adm-clerical  Not-in-family  White  Male   \n",
              "1  Married-civ-spouse    Exec-managerial        Husband  White  Male   \n",
              "2            Divorced  Handlers-cleaners  Not-in-family  White  Male   \n",
              "3  Married-civ-spouse  Handlers-cleaners        Husband  Black  Male   \n",
              "\n",
              "   capital-gain  capital-loss  hours-per-week native-country  income  \n",
              "0          2174             0              40  United-States       0  \n",
              "1             0             0              13  United-States       0  \n",
              "2             0             0              40  United-States       0  \n",
              "3             0             0              40  United-States       0  "
            ],
            "text/html": [
              "\n",
              "  <div id=\"df-35f12d2f-1378-4004-9a48-ed6d32c59b96\">\n",
              "    <div class=\"colab-df-container\">\n",
              "      <div>\n",
              "<style scoped>\n",
              "    .dataframe tbody tr th:only-of-type {\n",
              "        vertical-align: middle;\n",
              "    }\n",
              "\n",
              "    .dataframe tbody tr th {\n",
              "        vertical-align: top;\n",
              "    }\n",
              "\n",
              "    .dataframe thead th {\n",
              "        text-align: right;\n",
              "    }\n",
              "</style>\n",
              "<table border=\"1\" class=\"dataframe\">\n",
              "  <thead>\n",
              "    <tr style=\"text-align: right;\">\n",
              "      <th></th>\n",
              "      <th>age</th>\n",
              "      <th>workclass</th>\n",
              "      <th>fnlwgt</th>\n",
              "      <th>education</th>\n",
              "      <th>education-num</th>\n",
              "      <th>marital-status</th>\n",
              "      <th>occupation</th>\n",
              "      <th>relationship</th>\n",
              "      <th>race</th>\n",
              "      <th>sex</th>\n",
              "      <th>capital-gain</th>\n",
              "      <th>capital-loss</th>\n",
              "      <th>hours-per-week</th>\n",
              "      <th>native-country</th>\n",
              "      <th>income</th>\n",
              "    </tr>\n",
              "  </thead>\n",
              "  <tbody>\n",
              "    <tr>\n",
              "      <th>0</th>\n",
              "      <td>39</td>\n",
              "      <td>State-gov</td>\n",
              "      <td>77516</td>\n",
              "      <td>Bachelors</td>\n",
              "      <td>13</td>\n",
              "      <td>Never-married</td>\n",
              "      <td>Adm-clerical</td>\n",
              "      <td>Not-in-family</td>\n",
              "      <td>White</td>\n",
              "      <td>Male</td>\n",
              "      <td>2174</td>\n",
              "      <td>0</td>\n",
              "      <td>40</td>\n",
              "      <td>United-States</td>\n",
              "      <td>0</td>\n",
              "    </tr>\n",
              "    <tr>\n",
              "      <th>1</th>\n",
              "      <td>50</td>\n",
              "      <td>Self-emp-not-inc</td>\n",
              "      <td>83311</td>\n",
              "      <td>Bachelors</td>\n",
              "      <td>13</td>\n",
              "      <td>Married-civ-spouse</td>\n",
              "      <td>Exec-managerial</td>\n",
              "      <td>Husband</td>\n",
              "      <td>White</td>\n",
              "      <td>Male</td>\n",
              "      <td>0</td>\n",
              "      <td>0</td>\n",
              "      <td>13</td>\n",
              "      <td>United-States</td>\n",
              "      <td>0</td>\n",
              "    </tr>\n",
              "    <tr>\n",
              "      <th>2</th>\n",
              "      <td>38</td>\n",
              "      <td>Private</td>\n",
              "      <td>215646</td>\n",
              "      <td>HS-grad</td>\n",
              "      <td>9</td>\n",
              "      <td>Divorced</td>\n",
              "      <td>Handlers-cleaners</td>\n",
              "      <td>Not-in-family</td>\n",
              "      <td>White</td>\n",
              "      <td>Male</td>\n",
              "      <td>0</td>\n",
              "      <td>0</td>\n",
              "      <td>40</td>\n",
              "      <td>United-States</td>\n",
              "      <td>0</td>\n",
              "    </tr>\n",
              "    <tr>\n",
              "      <th>3</th>\n",
              "      <td>53</td>\n",
              "      <td>Private</td>\n",
              "      <td>234721</td>\n",
              "      <td>11th</td>\n",
              "      <td>7</td>\n",
              "      <td>Married-civ-spouse</td>\n",
              "      <td>Handlers-cleaners</td>\n",
              "      <td>Husband</td>\n",
              "      <td>Black</td>\n",
              "      <td>Male</td>\n",
              "      <td>0</td>\n",
              "      <td>0</td>\n",
              "      <td>40</td>\n",
              "      <td>United-States</td>\n",
              "      <td>0</td>\n",
              "    </tr>\n",
              "  </tbody>\n",
              "</table>\n",
              "</div>\n",
              "      <button class=\"colab-df-convert\" onclick=\"convertToInteractive('df-35f12d2f-1378-4004-9a48-ed6d32c59b96')\"\n",
              "              title=\"Convert this dataframe to an interactive table.\"\n",
              "              style=\"display:none;\">\n",
              "        \n",
              "  <svg xmlns=\"http://www.w3.org/2000/svg\" height=\"24px\"viewBox=\"0 0 24 24\"\n",
              "       width=\"24px\">\n",
              "    <path d=\"M0 0h24v24H0V0z\" fill=\"none\"/>\n",
              "    <path d=\"M18.56 5.44l.94 2.06.94-2.06 2.06-.94-2.06-.94-.94-2.06-.94 2.06-2.06.94zm-11 1L8.5 8.5l.94-2.06 2.06-.94-2.06-.94L8.5 2.5l-.94 2.06-2.06.94zm10 10l.94 2.06.94-2.06 2.06-.94-2.06-.94-.94-2.06-.94 2.06-2.06.94z\"/><path d=\"M17.41 7.96l-1.37-1.37c-.4-.4-.92-.59-1.43-.59-.52 0-1.04.2-1.43.59L10.3 9.45l-7.72 7.72c-.78.78-.78 2.05 0 2.83L4 21.41c.39.39.9.59 1.41.59.51 0 1.02-.2 1.41-.59l7.78-7.78 2.81-2.81c.8-.78.8-2.07 0-2.86zM5.41 20L4 18.59l7.72-7.72 1.47 1.35L5.41 20z\"/>\n",
              "  </svg>\n",
              "      </button>\n",
              "      \n",
              "  <style>\n",
              "    .colab-df-container {\n",
              "      display:flex;\n",
              "      flex-wrap:wrap;\n",
              "      gap: 12px;\n",
              "    }\n",
              "\n",
              "    .colab-df-convert {\n",
              "      background-color: #E8F0FE;\n",
              "      border: none;\n",
              "      border-radius: 50%;\n",
              "      cursor: pointer;\n",
              "      display: none;\n",
              "      fill: #1967D2;\n",
              "      height: 32px;\n",
              "      padding: 0 0 0 0;\n",
              "      width: 32px;\n",
              "    }\n",
              "\n",
              "    .colab-df-convert:hover {\n",
              "      background-color: #E2EBFA;\n",
              "      box-shadow: 0px 1px 2px rgba(60, 64, 67, 0.3), 0px 1px 3px 1px rgba(60, 64, 67, 0.15);\n",
              "      fill: #174EA6;\n",
              "    }\n",
              "\n",
              "    [theme=dark] .colab-df-convert {\n",
              "      background-color: #3B4455;\n",
              "      fill: #D2E3FC;\n",
              "    }\n",
              "\n",
              "    [theme=dark] .colab-df-convert:hover {\n",
              "      background-color: #434B5C;\n",
              "      box-shadow: 0px 1px 3px 1px rgba(0, 0, 0, 0.15);\n",
              "      filter: drop-shadow(0px 1px 2px rgba(0, 0, 0, 0.3));\n",
              "      fill: #FFFFFF;\n",
              "    }\n",
              "  </style>\n",
              "\n",
              "      <script>\n",
              "        const buttonEl =\n",
              "          document.querySelector('#df-35f12d2f-1378-4004-9a48-ed6d32c59b96 button.colab-df-convert');\n",
              "        buttonEl.style.display =\n",
              "          google.colab.kernel.accessAllowed ? 'block' : 'none';\n",
              "\n",
              "        async function convertToInteractive(key) {\n",
              "          const element = document.querySelector('#df-35f12d2f-1378-4004-9a48-ed6d32c59b96');\n",
              "          const dataTable =\n",
              "            await google.colab.kernel.invokeFunction('convertToInteractive',\n",
              "                                                     [key], {});\n",
              "          if (!dataTable) return;\n",
              "\n",
              "          const docLinkHtml = 'Like what you see? Visit the ' +\n",
              "            '<a target=\"_blank\" href=https://colab.research.google.com/notebooks/data_table.ipynb>data table notebook</a>'\n",
              "            + ' to learn more about interactive tables.';\n",
              "          element.innerHTML = '';\n",
              "          dataTable['output_type'] = 'display_data';\n",
              "          await google.colab.output.renderOutput(dataTable, element);\n",
              "          const docLink = document.createElement('div');\n",
              "          docLink.innerHTML = docLinkHtml;\n",
              "          element.appendChild(docLink);\n",
              "        }\n",
              "      </script>\n",
              "    </div>\n",
              "  </div>\n",
              "  "
            ]
          },
          "metadata": {},
          "execution_count": 6
        }
      ],
      "source": [
        "dataset['income']=dataset['income'].map({'<=50K': 0, '>50K': 1, '<=50K.': 0, '>50K.': 1})\n",
        "dataset.head(4)"
      ]
    },
    {
      "cell_type": "code",
      "source": [
        "dataset.hist()"
      ],
      "metadata": {
        "colab": {
          "base_uri": "https://localhost:8080/",
          "height": 455
        },
        "id": "7KPEK-lk5dHX",
        "outputId": "44df0c31-b7c3-4820-c846-9ca508aceb2e"
      },
      "execution_count": 26,
      "outputs": [
        {
          "output_type": "execute_result",
          "data": {
            "text/plain": [
              "array([[<matplotlib.axes._subplots.AxesSubplot object at 0x7f2ff6004d90>,\n",
              "        <matplotlib.axes._subplots.AxesSubplot object at 0x7f2ff5f9be50>,\n",
              "        <matplotlib.axes._subplots.AxesSubplot object at 0x7f2ff5f59490>],\n",
              "       [<matplotlib.axes._subplots.AxesSubplot object at 0x7f2ff5f8b350>,\n",
              "        <matplotlib.axes._subplots.AxesSubplot object at 0x7f2ff5f47350>,\n",
              "        <matplotlib.axes._subplots.AxesSubplot object at 0x7f2ff5efc850>],\n",
              "       [<matplotlib.axes._subplots.AxesSubplot object at 0x7f2ff5eb1290>,\n",
              "        <matplotlib.axes._subplots.AxesSubplot object at 0x7f2ff5e71290>,\n",
              "        <matplotlib.axes._subplots.AxesSubplot object at 0x7f2ff5e839d0>]],\n",
              "      dtype=object)"
            ]
          },
          "metadata": {},
          "execution_count": 26
        },
        {
          "output_type": "display_data",
          "data": {
            "text/plain": [
              "<Figure size 432x288 with 9 Axes>"
            ],
            "image/png": "[encoded data removed]"
          },
          "metadata": {
            "needs_background": "light"
          }
        }
      ]
    },
    {
      "cell_type": "code",
      "execution_count": 5,
      "metadata": {
        "colab": {
          "base_uri": "https://localhost:8080/",
          "height": 296
        },
        "id": "OJBk-fXMkBhg",
        "outputId": "c608d520-8ef6-43bd-d865-730f740fac3d"
      },
      "outputs": [
        {
          "output_type": "execute_result",
          "data": {
            "text/plain": [
              "<matplotlib.axes._subplots.AxesSubplot at 0x7f2ffdce5510>"
            ]
          },
          "metadata": {},
          "execution_count": 5
        },
        {
          "output_type": "display_data",
          "data": {
            "text/plain": [
              "<Figure size 432x288 with 1 Axes>"
            ],
            "image/png": "[encoded data removed]"
          },
          "metadata": {}
        }
      ],
      "source": [
        "plt.figure(facecolor='white')\n",
        "sns.countplot(x=dataset[\"income\"],label=\"income distrubution\")"
      ]
    },
    {
      "cell_type": "code",
      "execution_count": 7,
      "metadata": {
        "colab": {
          "base_uri": "https://localhost:8080/",
          "height": 296
        },
        "id": "DHOIJTp4j71N",
        "outputId": "0665bcbb-0f9c-4dbd-f332-053b24ba3d51"
      },
      "outputs": [
        {
          "output_type": "execute_result",
          "data": {
            "text/plain": [
              "<matplotlib.axes._subplots.AxesSubplot at 0x7f2ffdbb6710>"
            ]
          },
          "metadata": {},
          "execution_count": 7
        },
        {
          "output_type": "display_data",
          "data": {
            "text/plain": [
              "<Figure size 432x288 with 1 Axes>"
            ],
            "image/png": "[encoded data removed]"
          },
          "metadata": {}
        }
      ],
      "source": [
        "plt.figure(facecolor='white')\n",
        "sns.countplot(x=dataset[\"income\"],label=\"income distrubution\")"
      ]
    },
    {
      "cell_type": "code",
      "execution_count": 9,
      "metadata": {
        "id": "FWutR03dcglE"
      },
      "outputs": [],
      "source": [
        "dataset[\"sex\"] = dataset[\"sex\"].map({\"Male\": 0, \"Female\":1})\n",
        "\n",
        "# Create Married Column - Binary Yes(1) or No(0)\n",
        "dataset[\"marital-status\"] = dataset[\"marital-status\"].replace(['Never-married','Divorced','Separated','Widowed'], 'Single')\n",
        "dataset[\"marital-status\"] = dataset[\"marital-status\"].replace(['Married-civ-spouse','Married-spouse-absent','Married-AF-spouse'], 'Married')\n",
        "dataset[\"marital-status\"] = dataset[\"marital-status\"].map({\"Married\":1, \"Single\":0})\n",
        "dataset[\"marital-status\"] = dataset[\"marital-status\"].astype(int)"
      ]
    },
    {
      "cell_type": "code",
      "execution_count": 10,
      "metadata": {
        "id": "OA_DJTKDcpMh"
      },
      "outputs": [],
      "source": [
        "numeric_features = ['age','fnlwgt','education-num','capital-gain','capital-loss','hours-per-week','marital-status', 'sex']\n",
        "\n",
        "# Identify Categorical features\n",
        "cat_features = ['education', 'relationship', 'race', 'native-country']"
      ]
    },
    {
      "cell_type": "code",
      "execution_count": 11,
      "metadata": {
        "colab": {
          "base_uri": "https://localhost:8080/"
        },
        "id": "WuKxog5Uc3WH",
        "outputId": "52cad585-fbe6-4598-cca4-bd870ebd129c"
      },
      "outputs": [
        {
          "output_type": "stream",
          "name": "stdout",
          "text": [
            "20838 train examples\n",
            "5210 validation examples\n",
            "6513 test examples\n"
          ]
        }
      ],
      "source": [
        "train, test = train_test_split(dataset, test_size=0.2)\n",
        "train, val = train_test_split(train, test_size=0.2)\n",
        "print(len(train), 'train examples')\n",
        "print(len(val), 'validation examples')\n",
        "print(len(test), 'test examples')"
      ]
    },
    {
      "cell_type": "code",
      "execution_count": 12,
      "metadata": {
        "colab": {
          "base_uri": "https://localhost:8080/"
        },
        "id": "jPm63PSHc6E3",
        "outputId": "b3a75376-106d-4fd7-d2e3-966ef758021f"
      },
      "outputs": [
        {
          "output_type": "execute_result",
          "data": {
            "text/plain": [
              "[NumericColumn(key='age', shape=(1,), default_value=None, dtype=tf.float32, normalizer_fn=None),\n",
              " NumericColumn(key='fnlwgt', shape=(1,), default_value=None, dtype=tf.float32, normalizer_fn=None),\n",
              " NumericColumn(key='education-num', shape=(1,), default_value=None, dtype=tf.float32, normalizer_fn=None),\n",
              " NumericColumn(key='capital-gain', shape=(1,), default_value=None, dtype=tf.float32, normalizer_fn=None),\n",
              " NumericColumn(key='capital-loss', shape=(1,), default_value=None, dtype=tf.float32, normalizer_fn=None),\n",
              " NumericColumn(key='hours-per-week', shape=(1,), default_value=None, dtype=tf.float32, normalizer_fn=None),\n",
              " NumericColumn(key='marital-status', shape=(1,), default_value=None, dtype=tf.float32, normalizer_fn=None),\n",
              " NumericColumn(key='sex', shape=(1,), default_value=None, dtype=tf.float32, normalizer_fn=None)]"
            ]
          },
          "metadata": {},
          "execution_count": 12
        }
      ],
      "source": [
        "feature_columns = []\n",
        "\n",
        "# numeric cols\n",
        "for header in numeric_features:\n",
        "  feature_columns.append(feature_column.numeric_column(header))\n",
        "\n",
        "feature_columns"
      ]
    },
    {
      "cell_type": "code",
      "execution_count": 13,
      "metadata": {
        "colab": {
          "base_uri": "https://localhost:8080/",
          "height": 392
        },
        "id": "6l1JMgAHc_l6",
        "outputId": "3842c521-3749-4fe0-fc5b-92e37df73a4e"
      },
      "outputs": [
        {
          "output_type": "execute_result",
          "data": {
            "text/plain": [
              "   age         workclass  fnlwgt  education  education-num  marital-status  \\\n",
              "0   39         State-gov   77516  Bachelors             13               0   \n",
              "1   50  Self-emp-not-inc   83311  Bachelors             13               1   \n",
              "2   38           Private  215646    HS-grad              9               0   \n",
              "3   53           Private  234721       11th              7               1   \n",
              "4   28           Private  338409  Bachelors             13               1   \n",
              "\n",
              "          occupation   relationship   race  sex  capital-gain  capital-loss  \\\n",
              "0       Adm-clerical  Not-in-family  White    0          2174             0   \n",
              "1    Exec-managerial        Husband  White    0             0             0   \n",
              "2  Handlers-cleaners  Not-in-family  White    0             0             0   \n",
              "3  Handlers-cleaners        Husband  Black    0             0             0   \n",
              "4     Prof-specialty           Wife  Black    1             0             0   \n",
              "\n",
              "   hours-per-week native-country  income  \n",
              "0              40  United-States       0  \n",
              "1              13  United-States       0  \n",
              "2              40  United-States       0  \n",
              "3              40  United-States       0  \n",
              "4              40           Cuba       0  "
            ],
            "text/html": [
              "\n",
              "  <div id=\"df-14c2b749-8055-404d-9779-818f36d3350a\">\n",
              "    <div class=\"colab-df-container\">\n",
              "      <div>\n",
              "<style scoped>\n",
              "    .dataframe tbody tr th:only-of-type {\n",
              "        vertical-align: middle;\n",
              "    }\n",
              "\n",
              "    .dataframe tbody tr th {\n",
              "        vertical-align: top;\n",
              "    }\n",
              "\n",
              "    .dataframe thead th {\n",
              "        text-align: right;\n",
              "    }\n",
              "</style>\n",
              "<table border=\"1\" class=\"dataframe\">\n",
              "  <thead>\n",
              "    <tr style=\"text-align: right;\">\n",
              "      <th></th>\n",
              "      <th>age</th>\n",
              "      <th>workclass</th>\n",
              "      <th>fnlwgt</th>\n",
              "      <th>education</th>\n",
              "      <th>education-num</th>\n",
              "      <th>marital-status</th>\n",
              "      <th>occupation</th>\n",
              "      <th>relationship</th>\n",
              "      <th>race</th>\n",
              "      <th>sex</th>\n",
              "      <th>capital-gain</th>\n",
              "      <th>capital-loss</th>\n",
              "      <th>hours-per-week</th>\n",
              "      <th>native-country</th>\n",
              "      <th>income</th>\n",
              "    </tr>\n",
              "  </thead>\n",
              "  <tbody>\n",
              "    <tr>\n",
              "      <th>0</th>\n",
              "      <td>39</td>\n",
              "      <td>State-gov</td>\n",
              "      <td>77516</td>\n",
              "      <td>Bachelors</td>\n",
              "      <td>13</td>\n",
              "      <td>0</td>\n",
              "      <td>Adm-clerical</td>\n",
              "      <td>Not-in-family</td>\n",
              "      <td>White</td>\n",
              "      <td>0</td>\n",
              "      <td>2174</td>\n",
              "      <td>0</td>\n",
              "      <td>40</td>\n",
              "      <td>United-States</td>\n",
              "      <td>0</td>\n",
              "    </tr>\n",
              "    <tr>\n",
              "      <th>1</th>\n",
              "      <td>50</td>\n",
              "      <td>Self-emp-not-inc</td>\n",
              "      <td>83311</td>\n",
              "      <td>Bachelors</td>\n",
              "      <td>13</td>\n",
              "      <td>1</td>\n",
              "      <td>Exec-managerial</td>\n",
              "      <td>Husband</td>\n",
              "      <td>White</td>\n",
              "      <td>0</td>\n",
              "      <td>0</td>\n",
              "      <td>0</td>\n",
              "      <td>13</td>\n",
              "      <td>United-States</td>\n",
              "      <td>0</td>\n",
              "    </tr>\n",
              "    <tr>\n",
              "      <th>2</th>\n",
              "      <td>38</td>\n",
              "      <td>Private</td>\n",
              "      <td>215646</td>\n",
              "      <td>HS-grad</td>\n",
              "      <td>9</td>\n",
              "      <td>0</td>\n",
              "      <td>Handlers-cleaners</td>\n",
              "      <td>Not-in-family</td>\n",
              "      <td>White</td>\n",
              "      <td>0</td>\n",
              "      <td>0</td>\n",
              "      <td>0</td>\n",
              "      <td>40</td>\n",
              "      <td>United-States</td>\n",
              "      <td>0</td>\n",
              "    </tr>\n",
              "    <tr>\n",
              "      <th>3</th>\n",
              "      <td>53</td>\n",
              "      <td>Private</td>\n",
              "      <td>234721</td>\n",
              "      <td>11th</td>\n",
              "      <td>7</td>\n",
              "      <td>1</td>\n",
              "      <td>Handlers-cleaners</td>\n",
              "      <td>Husband</td>\n",
              "      <td>Black</td>\n",
              "      <td>0</td>\n",
              "      <td>0</td>\n",
              "      <td>0</td>\n",
              "      <td>40</td>\n",
              "      <td>United-States</td>\n",
              "      <td>0</td>\n",
              "    </tr>\n",
              "    <tr>\n",
              "      <th>4</th>\n",
              "      <td>28</td>\n",
              "      <td>Private</td>\n",
              "      <td>338409</td>\n",
              "      <td>Bachelors</td>\n",
              "      <td>13</td>\n",
              "      <td>1</td>\n",
              "      <td>Prof-specialty</td>\n",
              "      <td>Wife</td>\n",
              "      <td>Black</td>\n",
              "      <td>1</td>\n",
              "      <td>0</td>\n",
              "      <td>0</td>\n",
              "      <td>40</td>\n",
              "      <td>Cuba</td>\n",
              "      <td>0</td>\n",
              "    </tr>\n",
              "  </tbody>\n",
              "</table>\n",
              "</div>\n",
              "      <button class=\"colab-df-convert\" onclick=\"convertToInteractive('df-14c2b749-8055-404d-9779-818f36d3350a')\"\n",
              "              title=\"Convert this dataframe to an interactive table.\"\n",
              "              style=\"display:none;\">\n",
              "        \n",
              "  <svg xmlns=\"http://www.w3.org/2000/svg\" height=\"24px\"viewBox=\"0 0 24 24\"\n",
              "       width=\"24px\">\n",
              "    <path d=\"M0 0h24v24H0V0z\" fill=\"none\"/>\n",
              "    <path d=\"M18.56 5.44l.94 2.06.94-2.06 2.06-.94-2.06-.94-.94-2.06-.94 2.06-2.06.94zm-11 1L8.5 8.5l.94-2.06 2.06-.94-2.06-.94L8.5 2.5l-.94 2.06-2.06.94zm10 10l.94 2.06.94-2.06 2.06-.94-2.06-.94-.94-2.06-.94 2.06-2.06.94z\"/><path d=\"M17.41 7.96l-1.37-1.37c-.4-.4-.92-.59-1.43-.59-.52 0-1.04.2-1.43.59L10.3 9.45l-7.72 7.72c-.78.78-.78 2.05 0 2.83L4 21.41c.39.39.9.59 1.41.59.51 0 1.02-.2 1.41-.59l7.78-7.78 2.81-2.81c.8-.78.8-2.07 0-2.86zM5.41 20L4 18.59l7.72-7.72 1.47 1.35L5.41 20z\"/>\n",
              "  </svg>\n",
              "      </button>\n",
              "      \n",
              "  <style>\n",
              "    .colab-df-container {\n",
              "      display:flex;\n",
              "      flex-wrap:wrap;\n",
              "      gap: 12px;\n",
              "    }\n",
              "\n",
              "    .colab-df-convert {\n",
              "      background-color: #E8F0FE;\n",
              "      border: none;\n",
              "      border-radius: 50%;\n",
              "      cursor: pointer;\n",
              "      display: none;\n",
              "      fill: #1967D2;\n",
              "      height: 32px;\n",
              "      padding: 0 0 0 0;\n",
              "      width: 32px;\n",
              "    }\n",
              "\n",
              "    .colab-df-convert:hover {\n",
              "      background-color: #E2EBFA;\n",
              "      box-shadow: 0px 1px 2px rgba(60, 64, 67, 0.3), 0px 1px 3px 1px rgba(60, 64, 67, 0.15);\n",
              "      fill: #174EA6;\n",
              "    }\n",
              "\n",
              "    [theme=dark] .colab-df-convert {\n",
              "      background-color: #3B4455;\n",
              "      fill: #D2E3FC;\n",
              "    }\n",
              "\n",
              "    [theme=dark] .colab-df-convert:hover {\n",
              "      background-color: #434B5C;\n",
              "      box-shadow: 0px 1px 3px 1px rgba(0, 0, 0, 0.15);\n",
              "      filter: drop-shadow(0px 1px 2px rgba(0, 0, 0, 0.3));\n",
              "      fill: #FFFFFF;\n",
              "    }\n",
              "  </style>\n",
              "\n",
              "      <script>\n",
              "        const buttonEl =\n",
              "          document.querySelector('#df-14c2b749-8055-404d-9779-818f36d3350a button.colab-df-convert');\n",
              "        buttonEl.style.display =\n",
              "          google.colab.kernel.accessAllowed ? 'block' : 'none';\n",
              "\n",
              "        async function convertToInteractive(key) {\n",
              "          const element = document.querySelector('#df-14c2b749-8055-404d-9779-818f36d3350a');\n",
              "          const dataTable =\n",
              "            await google.colab.kernel.invokeFunction('convertToInteractive',\n",
              "                                                     [key], {});\n",
              "          if (!dataTable) return;\n",
              "\n",
              "          const docLinkHtml = 'Like what you see? Visit the ' +\n",
              "            '<a target=\"_blank\" href=https://colab.research.google.com/notebooks/data_table.ipynb>data table notebook</a>'\n",
              "            + ' to learn more about interactive tables.';\n",
              "          element.innerHTML = '';\n",
              "          dataTable['output_type'] = 'display_data';\n",
              "          await google.colab.output.renderOutput(dataTable, element);\n",
              "          const docLink = document.createElement('div');\n",
              "          docLink.innerHTML = docLinkHtml;\n",
              "          element.appendChild(docLink);\n",
              "        }\n",
              "      </script>\n",
              "    </div>\n",
              "  </div>\n",
              "  "
            ]
          },
          "metadata": {},
          "execution_count": 13
        }
      ],
      "source": [
        "dataset.head()"
      ]
    },
    {
      "cell_type": "code",
      "execution_count": 14,
      "metadata": {
        "colab": {
          "base_uri": "https://localhost:8080/"
        },
        "id": "urKp-n7edGHO",
        "outputId": "15b4eb7a-6982-4613-e2b8-7886fc48450f"
      },
      "outputs": [
        {
          "output_type": "stream",
          "name": "stdout",
          "text": [
            "Dataset with Dropped Labels\n",
            "   age  fnlwgt  education  education-num  marital-status   relationship  \\\n",
            "0   39   77516  Bachelors             13               0  Not-in-family   \n",
            "1   50   83311  Bachelors             13               1        Husband   \n",
            "2   38  215646    HS-grad              9               0  Not-in-family   \n",
            "3   53  234721       11th              7               1        Husband   \n",
            "4   28  338409  Bachelors             13               1           Wife   \n",
            "\n",
            "    race  sex  capital-gain  capital-loss  hours-per-week native-country  \\\n",
            "0  White    0          2174             0              40  United-States   \n",
            "1  White    0             0             0              13  United-States   \n",
            "2  White    0             0             0              40  United-States   \n",
            "3  Black    0             0             0              40  United-States   \n",
            "4  Black    1             0             0              40           Cuba   \n",
            "\n",
            "   income  \n",
            "0       0  \n",
            "1       0  \n",
            "2       0  \n",
            "3       0  \n",
            "4       0  \n"
          ]
        }
      ],
      "source": [
        "dataset.drop(labels=[\"workclass\",\"occupation\"], axis = 1, inplace = True)\n",
        "print('Dataset with Dropped Labels')\n",
        "print(dataset.head())"
      ]
    },
    {
      "cell_type": "code",
      "execution_count": 15,
      "metadata": {
        "colab": {
          "base_uri": "https://localhost:8080/"
        },
        "id": "D7QZxfFQfO26",
        "outputId": "d4c9c27b-2d8d-4bc8-ac26-7da4a3614f1d"
      },
      "outputs": [
        {
          "output_type": "stream",
          "name": "stdout",
          "text": [
            "[NumericColumn(key='age', shape=(1,), default_value=None, dtype=tf.float32, normalizer_fn=None), NumericColumn(key='fnlwgt', shape=(1,), default_value=None, dtype=tf.float32, normalizer_fn=None), NumericColumn(key='education-num', shape=(1,), default_value=None, dtype=tf.float32, normalizer_fn=None), NumericColumn(key='capital-gain', shape=(1,), default_value=None, dtype=tf.float32, normalizer_fn=None), NumericColumn(key='capital-loss', shape=(1,), default_value=None, dtype=tf.float32, normalizer_fn=None), NumericColumn(key='hours-per-week', shape=(1,), default_value=None, dtype=tf.float32, normalizer_fn=None), NumericColumn(key='marital-status', shape=(1,), default_value=None, dtype=tf.float32, normalizer_fn=None), NumericColumn(key='sex', shape=(1,), default_value=None, dtype=tf.float32, normalizer_fn=None), IndicatorColumn(categorical_column=VocabularyListCategoricalColumn(key='education', vocabulary_list=('Bachelors', 'HS-grad', '11th', 'Masters', '9th', 'Some-college', 'Assoc-acdm', 'Assoc-voc', '7th-8th', 'Doctorate', 'Prof-school', '5th-6th', '10th', '1st-4th', 'Preschool', '12th'), dtype=tf.string, default_value=-1, num_oov_buckets=0)), IndicatorColumn(categorical_column=VocabularyListCategoricalColumn(key='relationship', vocabulary_list=('Not-in-family', 'Husband', 'Wife', 'Own-child', 'Unmarried', 'Other-relative'), dtype=tf.string, default_value=-1, num_oov_buckets=0)), IndicatorColumn(categorical_column=VocabularyListCategoricalColumn(key='race', vocabulary_list=('White', 'Black', 'Asian-Pac-Islander', 'Amer-Indian-Eskimo', 'Other'), dtype=tf.string, default_value=-1, num_oov_buckets=0)), IndicatorColumn(categorical_column=VocabularyListCategoricalColumn(key='native-country', vocabulary_list=('United-States', 'Cuba', 'Jamaica', 'India', '?', 'Mexico', 'South', 'Puerto-Rico', 'Honduras', 'England', 'Canada', 'Germany', 'Iran', 'Philippines', 'Italy', 'Poland', 'Columbia', 'Cambodia', 'Thailand', 'Ecuador', 'Laos', 'Taiwan', 'Haiti', 'Portugal', 'Dominican-Republic', 'El-Salvador', 'France', 'Guatemala', 'China', 'Japan', 'Yugoslavia', 'Peru', 'Outlying-US(Guam-USVI-etc)', 'Scotland', 'Trinadad&Tobago', 'Greece', 'Nicaragua', 'Vietnam', 'Hong', 'Ireland', 'Hungary', 'Holand-Netherlands'), dtype=tf.string, default_value=-1, num_oov_buckets=0))]\n"
          ]
        }
      ],
      "source": [
        "for feature in cat_features:\n",
        "    l = dataset[feature].unique()\n",
        "#     print(l)\n",
        "    f = feature_column.categorical_column_with_vocabulary_list(feature,l)\n",
        "    one_hot = feature_column.indicator_column(f)\n",
        "    feature_columns.append(one_hot)\n",
        "    \n",
        "print(feature_columns)\n"
      ]
    },
    {
      "cell_type": "code",
      "execution_count": 16,
      "metadata": {
        "id": "OdOxcULKdSBu"
      },
      "outputs": [],
      "source": [
        "def df_to_dataset(dataframe, shuffle=True, batch_size=32):\n",
        "  dataframe = dataframe.copy()\n",
        "  labels = dataframe.pop('income')\n",
        "  ds = tf.data.Dataset.from_tensor_slices((dict(dataframe), labels))\n",
        "  if shuffle:\n",
        "    ds = ds.shuffle(buffer_size=len(dataframe))\n",
        "  ds = ds.batch(batch_size)\n",
        "  return ds"
      ]
    },
    {
      "cell_type": "code",
      "execution_count": 17,
      "metadata": {
        "id": "VlgN3Pj9duLL"
      },
      "outputs": [],
      "source": [
        "batch_size = 32\n",
        "train_ds = df_to_dataset(train, batch_size=batch_size)\n",
        "val_ds = df_to_dataset(val, shuffle=False, batch_size=batch_size)\n",
        "test_ds = df_to_dataset(test, shuffle=False, batch_size=batch_size)"
      ]
    },
    {
      "cell_type": "code",
      "execution_count": 18,
      "metadata": {
        "id": "S59oBGBDeWUO"
      },
      "outputs": [],
      "source": [
        "feature_layer = tf.keras.layers.DenseFeatures(feature_columns)"
      ]
    },
    {
      "cell_type": "code",
      "execution_count": 19,
      "metadata": {
        "id": "G3xcjiRmfubj"
      },
      "outputs": [],
      "source": [
        "model = tf.keras.Sequential([\n",
        "  feature_layer,\n",
        "  layers.Dense(128, activation='relu'),\n",
        "  layers.Dense(128, activation='relu'),\n",
        "  layers.Dense(1)\n",
        "])"
      ]
    },
    {
      "cell_type": "code",
      "execution_count": 20,
      "metadata": {
        "id": "XTOkayUFfywU"
      },
      "outputs": [],
      "source": [
        "model.compile(optimizer='adam',loss=tf.keras.losses.BinaryCrossentropy(from_logits=True),metrics=['accuracy'])"
      ]
    },
    {
      "cell_type": "code",
      "execution_count": 22,
      "metadata": {
        "colab": {
          "base_uri": "https://localhost:8080/"
        },
        "id": "3u06tG30f6ge",
        "outputId": "3949ae3f-7122-4161-ebed-db1c04fb9d07"
      },
      "outputs": [
        {
          "output_type": "stream",
          "name": "stdout",
          "text": [
            "Epoch 1/150\n",
            "652/652 [==============================] - 4s 6ms/step - loss: 0.9871 - accuracy: 0.7518 - val_loss: 0.4808 - val_accuracy: 0.7971\n",
            "Epoch 2/150\n",
            "652/652 [==============================] - 2s 3ms/step - loss: 0.7835 - accuracy: 0.7699 - val_loss: 0.5314 - val_accuracy: 0.7992\n",
            "Epoch 3/150\n",
            "652/652 [==============================] - 2s 3ms/step - loss: 0.6119 - accuracy: 0.7835 - val_loss: 0.7947 - val_accuracy: 0.6841\n",
            "Epoch 4/150\n",
            "652/652 [==============================] - 2s 3ms/step - loss: 0.5615 - accuracy: 0.7887 - val_loss: 0.4892 - val_accuracy: 0.8017\n",
            "Epoch 5/150\n",
            "652/652 [==============================] - 2s 3ms/step - loss: 0.5506 - accuracy: 0.7899 - val_loss: 0.5051 - val_accuracy: 0.7931\n",
            "Epoch 6/150\n",
            "652/652 [==============================] - 2s 3ms/step - loss: 0.5239 - accuracy: 0.7921 - val_loss: 0.6107 - val_accuracy: 0.7783\n",
            "Epoch 7/150\n",
            "652/652 [==============================] - 5s 7ms/step - loss: 0.5262 - accuracy: 0.7885 - val_loss: 0.4986 - val_accuracy: 0.7919\n",
            "Epoch 8/150\n",
            "652/652 [==============================] - 5s 7ms/step - loss: 0.5021 - accuracy: 0.7928 - val_loss: 0.5218 - val_accuracy: 0.7921\n",
            "Epoch 9/150\n",
            "652/652 [==============================] - 5s 8ms/step - loss: 0.5003 - accuracy: 0.7940 - val_loss: 0.4889 - val_accuracy: 0.7990\n",
            "Epoch 10/150\n",
            "652/652 [==============================] - 5s 7ms/step - loss: 0.4947 - accuracy: 0.7973 - val_loss: 0.4899 - val_accuracy: 0.7979\n",
            "Epoch 11/150\n",
            "652/652 [==============================] - 2s 3ms/step - loss: 0.5027 - accuracy: 0.7922 - val_loss: 0.4928 - val_accuracy: 0.7967\n",
            "Epoch 12/150\n",
            "652/652 [==============================] - 2s 3ms/step - loss: 0.4949 - accuracy: 0.7957 - val_loss: 0.4986 - val_accuracy: 0.7950\n",
            "Epoch 13/150\n",
            "652/652 [==============================] - 2s 3ms/step - loss: 0.4982 - accuracy: 0.7943 - val_loss: 0.5101 - val_accuracy: 0.7944\n",
            "Epoch 14/150\n",
            "652/652 [==============================] - 2s 3ms/step - loss: 0.5059 - accuracy: 0.7915 - val_loss: 0.5033 - val_accuracy: 0.7912\n",
            "Epoch 15/150\n",
            "652/652 [==============================] - 2s 3ms/step - loss: 0.5048 - accuracy: 0.7899 - val_loss: 0.4902 - val_accuracy: 0.7985\n",
            "Epoch 16/150\n",
            "652/652 [==============================] - 2s 3ms/step - loss: 0.5006 - accuracy: 0.7928 - val_loss: 0.4927 - val_accuracy: 0.7992\n",
            "Epoch 17/150\n",
            "652/652 [==============================] - 2s 3ms/step - loss: 0.4979 - accuracy: 0.7963 - val_loss: 0.4960 - val_accuracy: 0.7958\n",
            "Epoch 18/150\n",
            "652/652 [==============================] - 2s 3ms/step - loss: 0.5078 - accuracy: 0.7931 - val_loss: 0.4982 - val_accuracy: 0.7940\n",
            "Epoch 19/150\n",
            "652/652 [==============================] - 2s 3ms/step - loss: 0.4942 - accuracy: 0.7963 - val_loss: 0.4910 - val_accuracy: 0.7992\n",
            "Epoch 20/150\n",
            "652/652 [==============================] - 2s 3ms/step - loss: 0.4940 - accuracy: 0.7969 - val_loss: 0.4921 - val_accuracy: 0.7979\n",
            "Epoch 21/150\n",
            "652/652 [==============================] - 2s 3ms/step - loss: 0.5399 - accuracy: 0.7704 - val_loss: 0.5033 - val_accuracy: 0.7956\n",
            "Epoch 22/150\n",
            "652/652 [==============================] - 2s 3ms/step - loss: 0.4921 - accuracy: 0.7981 - val_loss: 0.4965 - val_accuracy: 0.8027\n",
            "Epoch 23/150\n",
            "652/652 [==============================] - 2s 3ms/step - loss: 0.4950 - accuracy: 0.7960 - val_loss: 0.4901 - val_accuracy: 0.8008\n",
            "Epoch 24/150\n",
            "652/652 [==============================] - 2s 3ms/step - loss: 0.5024 - accuracy: 0.7929 - val_loss: 0.5044 - val_accuracy: 0.7940\n",
            "Epoch 25/150\n",
            "652/652 [==============================] - 2s 3ms/step - loss: 0.4922 - accuracy: 0.7972 - val_loss: 0.4952 - val_accuracy: 0.7975\n",
            "Epoch 26/150\n",
            "652/652 [==============================] - 2s 4ms/step - loss: 0.4958 - accuracy: 0.7974 - val_loss: 0.4913 - val_accuracy: 0.7975\n",
            "Epoch 27/150\n",
            "652/652 [==============================] - 2s 4ms/step - loss: 0.4904 - accuracy: 0.7987 - val_loss: 0.4893 - val_accuracy: 0.7994\n",
            "Epoch 28/150\n",
            "652/652 [==============================] - 2s 4ms/step - loss: 0.4920 - accuracy: 0.7972 - val_loss: 0.4916 - val_accuracy: 0.8017\n",
            "Epoch 29/150\n",
            "652/652 [==============================] - 2s 3ms/step - loss: 0.5120 - accuracy: 0.7925 - val_loss: 0.4945 - val_accuracy: 0.7942\n",
            "Epoch 30/150\n",
            "652/652 [==============================] - 2s 3ms/step - loss: 0.5122 - accuracy: 0.7921 - val_loss: 0.4900 - val_accuracy: 0.8013\n",
            "Epoch 31/150\n",
            "652/652 [==============================] - 2s 4ms/step - loss: 0.4874 - accuracy: 0.8011 - val_loss: 0.4900 - val_accuracy: 0.7988\n",
            "Epoch 32/150\n",
            "652/652 [==============================] - 2s 3ms/step - loss: 0.4932 - accuracy: 0.7969 - val_loss: 0.4900 - val_accuracy: 0.7973\n",
            "Epoch 33/150\n",
            "652/652 [==============================] - 2s 3ms/step - loss: 0.4883 - accuracy: 0.8002 - val_loss: 0.5253 - val_accuracy: 0.7981\n",
            "Epoch 34/150\n",
            "652/652 [==============================] - 2s 3ms/step - loss: 0.4929 - accuracy: 0.7971 - val_loss: 0.4907 - val_accuracy: 0.8056\n",
            "Epoch 35/150\n",
            "652/652 [==============================] - 2s 3ms/step - loss: 0.4884 - accuracy: 0.7996 - val_loss: 0.4924 - val_accuracy: 0.7956\n",
            "Epoch 36/150\n",
            "652/652 [==============================] - 4s 6ms/step - loss: 0.4904 - accuracy: 0.7979 - val_loss: 0.4923 - val_accuracy: 0.7971\n",
            "Epoch 37/150\n",
            "652/652 [==============================] - 2s 3ms/step - loss: 0.4879 - accuracy: 0.8007 - val_loss: 0.4899 - val_accuracy: 0.7971\n",
            "Epoch 38/150\n",
            "652/652 [==============================] - 2s 3ms/step - loss: 0.4940 - accuracy: 0.7947 - val_loss: 0.4915 - val_accuracy: 0.7981\n",
            "Epoch 39/150\n",
            "652/652 [==============================] - 2s 3ms/step - loss: 0.4899 - accuracy: 0.7998 - val_loss: 0.4897 - val_accuracy: 0.7990\n",
            "Epoch 40/150\n",
            "652/652 [==============================] - 2s 3ms/step - loss: 0.4911 - accuracy: 0.7965 - val_loss: 0.4913 - val_accuracy: 0.7975\n",
            "Epoch 41/150\n",
            "652/652 [==============================] - 2s 3ms/step - loss: 0.4892 - accuracy: 0.7986 - val_loss: 0.4901 - val_accuracy: 0.8075\n",
            "Epoch 42/150\n",
            "652/652 [==============================] - 3s 4ms/step - loss: 0.4878 - accuracy: 0.8007 - val_loss: 0.5183 - val_accuracy: 0.8006\n",
            "Epoch 43/150\n",
            "652/652 [==============================] - 2s 3ms/step - loss: 0.4897 - accuracy: 0.7986 - val_loss: 0.5086 - val_accuracy: 0.7804\n",
            "Epoch 44/150\n",
            "652/652 [==============================] - 2s 3ms/step - loss: 0.4897 - accuracy: 0.7997 - val_loss: 0.4907 - val_accuracy: 0.7985\n",
            "Epoch 45/150\n",
            "652/652 [==============================] - 2s 3ms/step - loss: 0.4880 - accuracy: 0.8001 - val_loss: 0.4874 - val_accuracy: 0.7973\n",
            "Epoch 46/150\n",
            "652/652 [==============================] - 2s 3ms/step - loss: 0.4882 - accuracy: 0.7999 - val_loss: 0.4904 - val_accuracy: 0.7988\n",
            "Epoch 47/150\n",
            "652/652 [==============================] - 2s 3ms/step - loss: 0.4882 - accuracy: 0.8000 - val_loss: 0.4936 - val_accuracy: 0.7940\n",
            "Epoch 48/150\n",
            "652/652 [==============================] - 2s 3ms/step - loss: 0.4879 - accuracy: 0.7997 - val_loss: 0.4895 - val_accuracy: 0.8002\n",
            "Epoch 49/150\n",
            "652/652 [==============================] - 2s 4ms/step - loss: 0.4905 - accuracy: 0.7975 - val_loss: 0.4944 - val_accuracy: 0.7900\n",
            "Epoch 50/150\n",
            "652/652 [==============================] - 2s 3ms/step - loss: 0.4874 - accuracy: 0.7998 - val_loss: 0.4904 - val_accuracy: 0.7973\n",
            "Epoch 51/150\n",
            "652/652 [==============================] - 2s 3ms/step - loss: 0.4878 - accuracy: 0.8005 - val_loss: 0.4924 - val_accuracy: 0.8044\n",
            "Epoch 52/150\n",
            "652/652 [==============================] - 2s 3ms/step - loss: 0.4913 - accuracy: 0.7974 - val_loss: 0.4927 - val_accuracy: 0.8015\n",
            "Epoch 53/150\n",
            "652/652 [==============================] - 2s 3ms/step - loss: 0.4873 - accuracy: 0.8010 - val_loss: 0.4904 - val_accuracy: 0.7975\n",
            "Epoch 54/150\n",
            "652/652 [==============================] - 2s 3ms/step - loss: 0.4933 - accuracy: 0.7967 - val_loss: 0.5133 - val_accuracy: 0.7741\n",
            "Epoch 55/150\n",
            "652/652 [==============================] - 2s 3ms/step - loss: 0.4869 - accuracy: 0.7993 - val_loss: 0.4907 - val_accuracy: 0.7988\n",
            "Epoch 56/150\n",
            "652/652 [==============================] - 2s 3ms/step - loss: 0.4881 - accuracy: 0.7991 - val_loss: 0.4906 - val_accuracy: 0.8010\n",
            "Epoch 57/150\n",
            "652/652 [==============================] - 2s 3ms/step - loss: 0.4874 - accuracy: 0.8021 - val_loss: 0.4939 - val_accuracy: 0.7946\n",
            "Epoch 58/150\n",
            "652/652 [==============================] - 2s 3ms/step - loss: 0.4890 - accuracy: 0.7994 - val_loss: 0.4909 - val_accuracy: 0.7987\n",
            "Epoch 59/150\n",
            "652/652 [==============================] - 2s 3ms/step - loss: 0.4879 - accuracy: 0.8002 - val_loss: 0.4912 - val_accuracy: 0.7985\n",
            "Epoch 60/150\n",
            "652/652 [==============================] - 2s 3ms/step - loss: 0.4879 - accuracy: 0.8012 - val_loss: 0.4898 - val_accuracy: 0.8000\n",
            "Epoch 61/150\n",
            "652/652 [==============================] - 2s 3ms/step - loss: 0.4874 - accuracy: 0.8013 - val_loss: 0.5137 - val_accuracy: 0.7846\n",
            "Epoch 62/150\n",
            "652/652 [==============================] - 2s 3ms/step - loss: 0.4875 - accuracy: 0.7991 - val_loss: 0.4934 - val_accuracy: 0.7992\n",
            "Epoch 63/150\n",
            "652/652 [==============================] - 2s 3ms/step - loss: 0.4882 - accuracy: 0.8008 - val_loss: 0.4901 - val_accuracy: 0.7992\n",
            "Epoch 64/150\n",
            "652/652 [==============================] - 2s 3ms/step - loss: 0.4863 - accuracy: 0.7995 - val_loss: 0.4900 - val_accuracy: 0.7975\n",
            "Epoch 65/150\n",
            "652/652 [==============================] - 2s 3ms/step - loss: 0.4874 - accuracy: 0.7999 - val_loss: 0.4930 - val_accuracy: 0.8031\n",
            "Epoch 66/150\n",
            "652/652 [==============================] - 2s 3ms/step - loss: 0.4873 - accuracy: 0.8010 - val_loss: 0.4902 - val_accuracy: 0.7990\n",
            "Epoch 67/150\n",
            "652/652 [==============================] - 2s 4ms/step - loss: 0.4874 - accuracy: 0.8007 - val_loss: 0.4884 - val_accuracy: 0.7975\n",
            "Epoch 68/150\n",
            "652/652 [==============================] - 2s 3ms/step - loss: 0.4873 - accuracy: 0.8001 - val_loss: 0.4904 - val_accuracy: 0.7996\n",
            "Epoch 69/150\n",
            "652/652 [==============================] - 2s 4ms/step - loss: 0.4875 - accuracy: 0.8007 - val_loss: 0.4898 - val_accuracy: 0.7998\n",
            "Epoch 70/150\n",
            "652/652 [==============================] - 2s 3ms/step - loss: 0.4868 - accuracy: 0.8008 - val_loss: 0.4919 - val_accuracy: 0.7967\n",
            "Epoch 71/150\n",
            "652/652 [==============================] - 2s 3ms/step - loss: 0.4898 - accuracy: 0.7991 - val_loss: 0.4926 - val_accuracy: 0.8054\n",
            "Epoch 72/150\n",
            "652/652 [==============================] - 2s 3ms/step - loss: 0.4957 - accuracy: 0.7936 - val_loss: 0.4899 - val_accuracy: 0.7973\n",
            "Epoch 73/150\n",
            "652/652 [==============================] - 2s 3ms/step - loss: 0.4869 - accuracy: 0.8010 - val_loss: 0.4896 - val_accuracy: 0.7979\n",
            "Epoch 74/150\n",
            "652/652 [==============================] - 2s 3ms/step - loss: 0.4865 - accuracy: 0.8008 - val_loss: 0.5063 - val_accuracy: 0.7889\n",
            "Epoch 75/150\n",
            "652/652 [==============================] - 2s 3ms/step - loss: 0.4879 - accuracy: 0.7999 - val_loss: 0.4981 - val_accuracy: 0.8027\n",
            "Epoch 76/150\n",
            "652/652 [==============================] - 2s 3ms/step - loss: 0.4877 - accuracy: 0.7999 - val_loss: 0.4911 - val_accuracy: 0.8000\n",
            "Epoch 77/150\n",
            "652/652 [==============================] - 2s 3ms/step - loss: 0.4873 - accuracy: 0.8001 - val_loss: 0.4912 - val_accuracy: 0.7977\n",
            "Epoch 78/150\n",
            "652/652 [==============================] - 2s 3ms/step - loss: 0.4879 - accuracy: 0.8001 - val_loss: 0.4889 - val_accuracy: 0.7990\n",
            "Epoch 79/150\n",
            "652/652 [==============================] - 2s 3ms/step - loss: 0.4894 - accuracy: 0.7984 - val_loss: 0.4919 - val_accuracy: 0.7964\n",
            "Epoch 80/150\n",
            "652/652 [==============================] - 2s 3ms/step - loss: 0.4869 - accuracy: 0.8006 - val_loss: 0.4940 - val_accuracy: 0.7833\n",
            "Epoch 81/150\n",
            "652/652 [==============================] - 2s 3ms/step - loss: 0.4852 - accuracy: 0.8023 - val_loss: 0.5258 - val_accuracy: 0.7962\n",
            "Epoch 82/150\n",
            "652/652 [==============================] - 2s 3ms/step - loss: 0.4900 - accuracy: 0.7990 - val_loss: 0.4883 - val_accuracy: 0.7992\n",
            "Epoch 83/150\n",
            "652/652 [==============================] - 2s 3ms/step - loss: 0.4893 - accuracy: 0.7997 - val_loss: 0.4976 - val_accuracy: 0.7940\n",
            "Epoch 84/150\n",
            "652/652 [==============================] - 2s 3ms/step - loss: 0.5343 - accuracy: 0.7754 - val_loss: 0.5615 - val_accuracy: 0.7564\n",
            "Epoch 85/150\n",
            "652/652 [==============================] - 2s 3ms/step - loss: 0.5559 - accuracy: 0.7576 - val_loss: 0.5556 - val_accuracy: 0.7564\n",
            "Epoch 86/150\n",
            "652/652 [==============================] - 2s 3ms/step - loss: 0.5539 - accuracy: 0.7576 - val_loss: 0.5552 - val_accuracy: 0.7564\n",
            "Epoch 87/150\n",
            "652/652 [==============================] - 2s 3ms/step - loss: 0.5538 - accuracy: 0.7576 - val_loss: 0.5552 - val_accuracy: 0.7564\n",
            "Epoch 88/150\n",
            "652/652 [==============================] - 2s 3ms/step - loss: 0.5538 - accuracy: 0.7576 - val_loss: 0.5552 - val_accuracy: 0.7564\n",
            "Epoch 89/150\n",
            "652/652 [==============================] - 2s 3ms/step - loss: 0.5538 - accuracy: 0.7576 - val_loss: 0.5552 - val_accuracy: 0.7564\n",
            "Epoch 90/150\n",
            "652/652 [==============================] - 2s 3ms/step - loss: 0.5538 - accuracy: 0.7576 - val_loss: 0.5552 - val_accuracy: 0.7564\n",
            "Epoch 91/150\n",
            "652/652 [==============================] - 2s 3ms/step - loss: 0.5538 - accuracy: 0.7576 - val_loss: 0.5552 - val_accuracy: 0.7564\n",
            "Epoch 92/150\n",
            "652/652 [==============================] - 2s 3ms/step - loss: 0.5538 - accuracy: 0.7576 - val_loss: 0.5552 - val_accuracy: 0.7564\n",
            "Epoch 93/150\n",
            "652/652 [==============================] - 2s 3ms/step - loss: 0.5538 - accuracy: 0.7576 - val_loss: 0.5552 - val_accuracy: 0.7564\n",
            "Epoch 94/150\n",
            "652/652 [==============================] - 2s 3ms/step - loss: 0.5538 - accuracy: 0.7576 - val_loss: 0.5552 - val_accuracy: 0.7564\n",
            "Epoch 95/150\n",
            "652/652 [==============================] - 2s 3ms/step - loss: 0.5538 - accuracy: 0.7576 - val_loss: 0.5552 - val_accuracy: 0.7564\n",
            "Epoch 96/150\n",
            "652/652 [==============================] - 2s 3ms/step - loss: 0.5538 - accuracy: 0.7576 - val_loss: 0.5552 - val_accuracy: 0.7564\n",
            "Epoch 97/150\n",
            "652/652 [==============================] - 2s 3ms/step - loss: 0.5538 - accuracy: 0.7576 - val_loss: 0.5552 - val_accuracy: 0.7564\n",
            "Epoch 98/150\n",
            "652/652 [==============================] - 2s 3ms/step - loss: 0.5538 - accuracy: 0.7576 - val_loss: 0.5552 - val_accuracy: 0.7564\n",
            "Epoch 99/150\n",
            "652/652 [==============================] - 2s 3ms/step - loss: 0.5538 - accuracy: 0.7576 - val_loss: 0.5552 - val_accuracy: 0.7564\n",
            "Epoch 100/150\n",
            "652/652 [==============================] - 2s 3ms/step - loss: 0.5538 - accuracy: 0.7576 - val_loss: 0.5552 - val_accuracy: 0.7564\n",
            "Epoch 101/150\n",
            "652/652 [==============================] - 2s 3ms/step - loss: 0.5538 - accuracy: 0.7576 - val_loss: 0.5552 - val_accuracy: 0.7564\n",
            "Epoch 102/150\n",
            "652/652 [==============================] - 2s 3ms/step - loss: 0.5538 - accuracy: 0.7576 - val_loss: 0.5552 - val_accuracy: 0.7564\n",
            "Epoch 103/150\n",
            "652/652 [==============================] - 2s 3ms/step - loss: 0.5538 - accuracy: 0.7576 - val_loss: 0.5552 - val_accuracy: 0.7564\n",
            "Epoch 104/150\n",
            "652/652 [==============================] - 2s 3ms/step - loss: 0.5538 - accuracy: 0.7576 - val_loss: 0.5552 - val_accuracy: 0.7564\n",
            "Epoch 105/150\n",
            "652/652 [==============================] - 2s 3ms/step - loss: 0.5538 - accuracy: 0.7576 - val_loss: 0.5552 - val_accuracy: 0.7564\n",
            "Epoch 106/150\n",
            "652/652 [==============================] - 2s 3ms/step - loss: 0.5538 - accuracy: 0.7576 - val_loss: 0.5552 - val_accuracy: 0.7564\n",
            "Epoch 107/150\n",
            "652/652 [==============================] - 2s 3ms/step - loss: 0.5538 - accuracy: 0.7576 - val_loss: 0.5552 - val_accuracy: 0.7564\n",
            "Epoch 108/150\n",
            "652/652 [==============================] - 4s 6ms/step - loss: 0.5538 - accuracy: 0.7576 - val_loss: 0.5552 - val_accuracy: 0.7564\n",
            "Epoch 109/150\n",
            "652/652 [==============================] - 4s 6ms/step - loss: 0.5538 - accuracy: 0.7576 - val_loss: 0.5552 - val_accuracy: 0.7564\n",
            "Epoch 110/150\n",
            "652/652 [==============================] - 3s 4ms/step - loss: 0.5538 - accuracy: 0.7576 - val_loss: 0.5552 - val_accuracy: 0.7564\n",
            "Epoch 111/150\n",
            "652/652 [==============================] - 2s 4ms/step - loss: 0.5538 - accuracy: 0.7576 - val_loss: 0.5552 - val_accuracy: 0.7564\n",
            "Epoch 112/150\n",
            "652/652 [==============================] - 2s 3ms/step - loss: 0.5538 - accuracy: 0.7576 - val_loss: 0.5552 - val_accuracy: 0.7564\n",
            "Epoch 113/150\n",
            "652/652 [==============================] - 2s 3ms/step - loss: 0.5538 - accuracy: 0.7576 - val_loss: 0.5552 - val_accuracy: 0.7564\n",
            "Epoch 114/150\n",
            "652/652 [==============================] - 2s 3ms/step - loss: 0.5538 - accuracy: 0.7576 - val_loss: 0.5552 - val_accuracy: 0.7564\n",
            "Epoch 115/150\n",
            "652/652 [==============================] - 2s 3ms/step - loss: 0.5538 - accuracy: 0.7576 - val_loss: 0.5552 - val_accuracy: 0.7564\n",
            "Epoch 116/150\n",
            "652/652 [==============================] - 2s 3ms/step - loss: 0.5538 - accuracy: 0.7576 - val_loss: 0.5552 - val_accuracy: 0.7564\n",
            "Epoch 117/150\n",
            "652/652 [==============================] - 2s 3ms/step - loss: 0.5538 - accuracy: 0.7576 - val_loss: 0.5552 - val_accuracy: 0.7564\n",
            "Epoch 118/150\n",
            "652/652 [==============================] - 2s 3ms/step - loss: 0.5538 - accuracy: 0.7576 - val_loss: 0.5552 - val_accuracy: 0.7564\n",
            "Epoch 119/150\n",
            "652/652 [==============================] - 2s 3ms/step - loss: 0.5538 - accuracy: 0.7576 - val_loss: 0.5552 - val_accuracy: 0.7564\n",
            "Epoch 120/150\n",
            "652/652 [==============================] - 2s 3ms/step - loss: 0.5538 - accuracy: 0.7576 - val_loss: 0.5552 - val_accuracy: 0.7564\n",
            "Epoch 121/150\n",
            "652/652 [==============================] - 2s 3ms/step - loss: 0.5538 - accuracy: 0.7576 - val_loss: 0.5552 - val_accuracy: 0.7564\n",
            "Epoch 122/150\n",
            "652/652 [==============================] - 2s 3ms/step - loss: 0.5538 - accuracy: 0.7576 - val_loss: 0.5552 - val_accuracy: 0.7564\n",
            "Epoch 123/150\n",
            "652/652 [==============================] - 2s 3ms/step - loss: 0.5538 - accuracy: 0.7576 - val_loss: 0.5552 - val_accuracy: 0.7564\n",
            "Epoch 124/150\n",
            "652/652 [==============================] - 2s 3ms/step - loss: 0.5538 - accuracy: 0.7576 - val_loss: 0.5552 - val_accuracy: 0.7564\n",
            "Epoch 125/150\n",
            "652/652 [==============================] - 2s 3ms/step - loss: 0.5538 - accuracy: 0.7576 - val_loss: 0.5552 - val_accuracy: 0.7564\n",
            "Epoch 126/150\n",
            "652/652 [==============================] - 2s 3ms/step - loss: 0.5538 - accuracy: 0.7576 - val_loss: 0.5552 - val_accuracy: 0.7564\n",
            "Epoch 127/150\n",
            "652/652 [==============================] - 2s 3ms/step - loss: 0.5538 - accuracy: 0.7576 - val_loss: 0.5552 - val_accuracy: 0.7564\n",
            "Epoch 128/150\n",
            "652/652 [==============================] - 2s 3ms/step - loss: 0.5538 - accuracy: 0.7576 - val_loss: 0.5552 - val_accuracy: 0.7564\n",
            "Epoch 129/150\n",
            "652/652 [==============================] - 2s 3ms/step - loss: 0.5538 - accuracy: 0.7576 - val_loss: 0.5552 - val_accuracy: 0.7564\n",
            "Epoch 130/150\n",
            "652/652 [==============================] - 2s 4ms/step - loss: 0.5538 - accuracy: 0.7576 - val_loss: 0.5552 - val_accuracy: 0.7564\n",
            "Epoch 131/150\n",
            "652/652 [==============================] - 2s 3ms/step - loss: 0.5538 - accuracy: 0.7576 - val_loss: 0.5552 - val_accuracy: 0.7564\n",
            "Epoch 132/150\n",
            "652/652 [==============================] - 2s 3ms/step - loss: 0.5538 - accuracy: 0.7576 - val_loss: 0.5552 - val_accuracy: 0.7564\n",
            "Epoch 133/150\n",
            "652/652 [==============================] - 2s 3ms/step - loss: 0.5538 - accuracy: 0.7576 - val_loss: 0.5552 - val_accuracy: 0.7564\n",
            "Epoch 134/150\n",
            "652/652 [==============================] - 4s 6ms/step - loss: 0.5538 - accuracy: 0.7576 - val_loss: 0.5552 - val_accuracy: 0.7564\n",
            "Epoch 135/150\n",
            "652/652 [==============================] - 4s 6ms/step - loss: 0.5538 - accuracy: 0.7576 - val_loss: 0.5552 - val_accuracy: 0.7564\n",
            "Epoch 136/150\n",
            "652/652 [==============================] - 4s 5ms/step - loss: 0.5538 - accuracy: 0.7576 - val_loss: 0.5552 - val_accuracy: 0.7564\n",
            "Epoch 137/150\n",
            "652/652 [==============================] - 3s 4ms/step - loss: 0.5538 - accuracy: 0.7576 - val_loss: 0.5552 - val_accuracy: 0.7564\n",
            "Epoch 138/150\n",
            "652/652 [==============================] - 2s 4ms/step - loss: 0.5538 - accuracy: 0.7576 - val_loss: 0.5552 - val_accuracy: 0.7564\n",
            "Epoch 139/150\n",
            "652/652 [==============================] - 4s 6ms/step - loss: 0.5538 - accuracy: 0.7576 - val_loss: 0.5552 - val_accuracy: 0.7564\n",
            "Epoch 140/150\n",
            "652/652 [==============================] - 2s 3ms/step - loss: 0.5538 - accuracy: 0.7576 - val_loss: 0.5552 - val_accuracy: 0.7564\n",
            "Epoch 141/150\n",
            "652/652 [==============================] - 2s 3ms/step - loss: 0.5538 - accuracy: 0.7576 - val_loss: 0.5552 - val_accuracy: 0.7564\n",
            "Epoch 142/150\n",
            "652/652 [==============================] - 2s 4ms/step - loss: 0.5538 - accuracy: 0.7576 - val_loss: 0.5552 - val_accuracy: 0.7564\n",
            "Epoch 143/150\n",
            "652/652 [==============================] - 2s 4ms/step - loss: 0.5538 - accuracy: 0.7576 - val_loss: 0.5552 - val_accuracy: 0.7564\n",
            "Epoch 144/150\n",
            "652/652 [==============================] - 3s 4ms/step - loss: 0.5538 - accuracy: 0.7576 - val_loss: 0.5552 - val_accuracy: 0.7564\n",
            "Epoch 145/150\n",
            "652/652 [==============================] - 3s 4ms/step - loss: 0.5538 - accuracy: 0.7576 - val_loss: 0.5552 - val_accuracy: 0.7564\n",
            "Epoch 146/150\n",
            "652/652 [==============================] - 2s 4ms/step - loss: 0.5538 - accuracy: 0.7576 - val_loss: 0.5552 - val_accuracy: 0.7564\n",
            "Epoch 147/150\n",
            "652/652 [==============================] - 2s 4ms/step - loss: 0.5538 - accuracy: 0.7576 - val_loss: 0.5552 - val_accuracy: 0.7564\n",
            "Epoch 148/150\n",
            "652/652 [==============================] - 3s 4ms/step - loss: 0.5538 - accuracy: 0.7576 - val_loss: 0.5552 - val_accuracy: 0.7564\n",
            "Epoch 149/150\n",
            "652/652 [==============================] - 2s 4ms/step - loss: 0.5538 - accuracy: 0.7576 - val_loss: 0.5552 - val_accuracy: 0.7564\n",
            "Epoch 150/150\n",
            "652/652 [==============================] - 2s 4ms/step - loss: 0.5538 - accuracy: 0.7576 - val_loss: 0.5552 - val_accuracy: 0.7564\n"
          ]
        },
        {
          "output_type": "execute_result",
          "data": {
            "text/plain": [
              "<keras.callbacks.History at 0x7f2ff77f2510>"
            ]
          },
          "metadata": {},
          "execution_count": 22
        }
      ],
      "source": [
        "model.fit(train_ds,validation_data=val_ds,epochs=150)"
      ]
    },
    {
      "cell_type": "code",
      "execution_count": 23,
      "metadata": {
        "colab": {
          "base_uri": "https://localhost:8080/"
        },
        "id": "Ubr3A8phf_IR",
        "outputId": "1390934c-d9ec-42b4-dc54-1df0e24cdbfc"
      },
      "outputs": [
        {
          "output_type": "stream",
          "name": "stdout",
          "text": [
            "204/204 [==============================] - 0s 2ms/step - loss: 0.5419 - accuracy: 0.7680\n",
            "Accuracy 0.768002450466156\n"
          ]
        }
      ],
      "source": [
        "loss, accuracy = model.evaluate(test_ds)\n",
        "print(\"Accuracy\", accuracy)\n"
      ]
    },
    {
      "cell_type": "code",
      "source": [
        "data = accuracy"
      ],
      "metadata": {
        "id": "qQpjPAu-6FaY"
      },
      "execution_count": 28,
      "outputs": []
    },
    {
      "cell_type": "code",
      "source": [
        "data.as_integer_ratio()"
      ],
      "metadata": {
        "colab": {
          "base_uri": "https://localhost:8080/"
        },
        "id": "mXyo9UVR6Qon",
        "outputId": "7eff636a-e9f1-4472-f2a8-5913eb49007b"
      },
      "execution_count": 31,
      "outputs": [
        {
          "output_type": "execute_result",
          "data": {
            "text/plain": [
              "(12884943, 16777216)"
            ]
          },
          "metadata": {},
          "execution_count": 31
        }
      ]
    }
  ],
  "metadata": {
    "colab": {
      "collapsed_sections": [],
      "name": "Assignment1_DL.ipynb",
      "provenance": []
    },
    "kernelspec": {
      "display_name": "Python 3.9.7 ('base')",
      "language": "python",
      "name": "python3"
    },
    "language_info": {
      "name": "python",
      "version": "3.9.7"
    },
    "vscode": {
      "interpreter": {
        "hash": "ba850f340ba6d442eb5227053396b22347b67f730695eeb385e8808cd4ad49a6"
      }
    }
  },
  "nbformat": 4,
  "nbformat_minor": 0
}