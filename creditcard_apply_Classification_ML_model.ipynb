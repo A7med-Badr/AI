{
  "nbformat": 4,
  "nbformat_minor": 0,
  "metadata": {
    "colab": {
      "name": "creditcard_apply_Classification_ML_model.ipynb",
      "provenance": []
    },
    "kernelspec": {
      "name": "python3",
      "display_name": "Python 3"
    },
    "language_info": {
      "name": "python"
    }
  },
  "cells": [
    {
      "cell_type": "markdown",
      "source": [
        "**Importing Needed packages**"
      ],
      "metadata": {
        "id": "yHr79sGw1-YX"
      }
    },
    {
      "cell_type": "code",
      "execution_count": null,
      "metadata": {
        "id": "EuDZUIpguvlK"
      },
      "outputs": [],
      "source": [
        "import numpy as np \n",
        "import pandas as pd \n",
        "import matplotlib.pyplot as plt\n",
        "import seaborn as sns"
      ]
    },
    {
      "cell_type": "code",
      "source": [
        "data = pd.read_csv(r'creditcard.csv')\n"
      ],
      "metadata": {
        "id": "ZX7GhwPsuwux"
      },
      "execution_count": null,
      "outputs": []
    },
    {
      "cell_type": "code",
      "source": [
        "# dataset exploring\n",
        "data.columns"
      ],
      "metadata": {
        "colab": {
          "base_uri": "https://localhost:8080/"
        },
        "id": "PamvQTqUx2Ht",
        "outputId": "f8ee9bb3-9af5-4dc8-8241-44711d2565fa"
      },
      "execution_count": null,
      "outputs": [
        {
          "output_type": "execute_result",
          "data": {
            "text/plain": [
              "Index(['Time', 'V1', 'V2', 'V3', 'V4', 'V5', 'V6', 'V7', 'V8', 'V9', 'V10',\n",
              "       'V11', 'V12', 'V13', 'V14', 'V15', 'V16', 'V17', 'V18', 'V19', 'V20',\n",
              "       'V21', 'V22', 'V23', 'V24', 'V25', 'V26', 'V27', 'V28', 'Amount',\n",
              "       'Class'],\n",
              "      dtype='object')"
            ]
          },
          "metadata": {},
          "execution_count": 8
        }
      ]
    },
    {
      "cell_type": "code",
      "source": [
        "# Print the shape of the data\n",
        "data = data.sample(frac=0.1, random_state = 1)\n",
        "data.shape\n",
        "data.describe()"
      ],
      "metadata": {
        "colab": {
          "base_uri": "https://localhost:8080/",
          "height": 394
        },
        "id": "L1a9hN8cx-vX",
        "outputId": "4fa74eb0-21d7-4ecc-f506-74d8a111911e"
      },
      "execution_count": null,
      "outputs": [
        {
          "output_type": "execute_result",
          "data": {
            "text/plain": [
              "                Time           V1           V2           V3           V4  \\\n",
              "count    2812.000000  2812.000000  2812.000000  2812.000000  2812.000000   \n",
              "mean    93496.229018     0.026535     0.036888     0.001683    -0.009920   \n",
              "std     47078.414315     1.821169     1.463114     1.542649     1.396927   \n",
              "min        16.000000   -22.382092   -14.198653   -22.801238    -4.509231   \n",
              "25%     54105.000000    -0.910851    -0.591410    -0.923906    -0.853177   \n",
              "50%     82747.500000     0.030829     0.084125     0.198424    -0.040529   \n",
              "75%    138360.250000     1.306062     0.796877     1.069414     0.752547   \n",
              "max    169929.000000     2.360330    14.706335     3.486492    12.114672   \n",
              "\n",
              "                V5           V6           V7           V8           V9  ...  \\\n",
              "count  2812.000000  2812.000000  2812.000000  2812.000000  2812.000000  ...   \n",
              "mean     -0.035243     0.010202    -0.015763     0.017406    -0.026416  ...   \n",
              "std       1.325419     1.278059     1.191338     1.113649     1.081769  ...   \n",
              "min     -14.898113    -9.014296   -28.011293   -14.272909    -8.960922  ...   \n",
              "25%      -0.707835    -0.753097    -0.566989    -0.201289    -0.651131  ...   \n",
              "50%      -0.068919    -0.264226     0.020956     0.031757    -0.069638  ...   \n",
              "75%       0.588138     0.388645     0.573145     0.323913     0.569575  ...   \n",
              "max      12.116322     7.804425    12.164068     8.438878     9.077107  ...   \n",
              "\n",
              "               V21          V22          V23          V24          V25  \\\n",
              "count  2812.000000  2812.000000  2812.000000  2812.000000  2812.000000   \n",
              "mean      0.011313    -0.007422    -0.002441     0.004731     0.006325   \n",
              "std       0.732830     0.701007     0.448814     0.598876     0.503256   \n",
              "min      -8.954836    -3.685480    -4.659394    -2.155474    -2.888726   \n",
              "25%      -0.215450    -0.547315    -0.170047    -0.358548    -0.308047   \n",
              "50%      -0.033285     0.006427    -0.016030     0.041406     0.017555   \n",
              "75%       0.181906     0.501251     0.140974     0.433512     0.360168   \n",
              "max      13.115579     3.488780     4.655025     3.633399     1.945840   \n",
              "\n",
              "               V26          V27          V28       Amount        Class  \n",
              "count  2812.000000  2812.000000  2812.000000  2812.000000  2812.000000  \n",
              "mean     -0.003914     0.003220     0.002745    88.300313     0.001067  \n",
              "std       0.473621     0.349162     0.283943   226.491008     0.032651  \n",
              "min      -1.411300    -4.126746    -8.277924     0.000000     0.000000  \n",
              "25%      -0.321703    -0.064955    -0.051968     5.947500     0.000000  \n",
              "50%      -0.066024     0.005012     0.012332    20.620000     0.000000  \n",
              "75%       0.218691     0.096316     0.076824    76.292500     0.000000  \n",
              "max       2.400858     4.591214     5.678671  4337.000000     1.000000  \n",
              "\n",
              "[8 rows x 31 columns]"
            ],
            "text/html": [
              "\n",
              "  <div id=\"df-75261442-74f6-4408-8c19-8c1522978c6d\">\n",
              "    <div class=\"colab-df-container\">\n",
              "      <div>\n",
              "<style scoped>\n",
              "    .dataframe tbody tr th:only-of-type {\n",
              "        vertical-align: middle;\n",
              "    }\n",
              "\n",
              "    .dataframe tbody tr th {\n",
              "        vertical-align: top;\n",
              "    }\n",
              "\n",
              "    .dataframe thead th {\n",
              "        text-align: right;\n",
              "    }\n",
              "</style>\n",
              "<table border=\"1\" class=\"dataframe\">\n",
              "  <thead>\n",
              "    <tr style=\"text-align: right;\">\n",
              "      <th></th>\n",
              "      <th>Time</th>\n",
              "      <th>V1</th>\n",
              "      <th>V2</th>\n",
              "      <th>V3</th>\n",
              "      <th>V4</th>\n",
              "      <th>V5</th>\n",
              "      <th>V6</th>\n",
              "      <th>V7</th>\n",
              "      <th>V8</th>\n",
              "      <th>V9</th>\n",
              "      <th>...</th>\n",
              "      <th>V21</th>\n",
              "      <th>V22</th>\n",
              "      <th>V23</th>\n",
              "      <th>V24</th>\n",
              "      <th>V25</th>\n",
              "      <th>V26</th>\n",
              "      <th>V27</th>\n",
              "      <th>V28</th>\n",
              "      <th>Amount</th>\n",
              "      <th>Class</th>\n",
              "    </tr>\n",
              "  </thead>\n",
              "  <tbody>\n",
              "    <tr>\n",
              "      <th>count</th>\n",
              "      <td>2812.000000</td>\n",
              "      <td>2812.000000</td>\n",
              "      <td>2812.000000</td>\n",
              "      <td>2812.000000</td>\n",
              "      <td>2812.000000</td>\n",
              "      <td>2812.000000</td>\n",
              "      <td>2812.000000</td>\n",
              "      <td>2812.000000</td>\n",
              "      <td>2812.000000</td>\n",
              "      <td>2812.000000</td>\n",
              "      <td>...</td>\n",
              "      <td>2812.000000</td>\n",
              "      <td>2812.000000</td>\n",
              "      <td>2812.000000</td>\n",
              "      <td>2812.000000</td>\n",
              "      <td>2812.000000</td>\n",
              "      <td>2812.000000</td>\n",
              "      <td>2812.000000</td>\n",
              "      <td>2812.000000</td>\n",
              "      <td>2812.000000</td>\n",
              "      <td>2812.000000</td>\n",
              "    </tr>\n",
              "    <tr>\n",
              "      <th>mean</th>\n",
              "      <td>93496.229018</td>\n",
              "      <td>0.026535</td>\n",
              "      <td>0.036888</td>\n",
              "      <td>0.001683</td>\n",
              "      <td>-0.009920</td>\n",
              "      <td>-0.035243</td>\n",
              "      <td>0.010202</td>\n",
              "      <td>-0.015763</td>\n",
              "      <td>0.017406</td>\n",
              "      <td>-0.026416</td>\n",
              "      <td>...</td>\n",
              "      <td>0.011313</td>\n",
              "      <td>-0.007422</td>\n",
              "      <td>-0.002441</td>\n",
              "      <td>0.004731</td>\n",
              "      <td>0.006325</td>\n",
              "      <td>-0.003914</td>\n",
              "      <td>0.003220</td>\n",
              "      <td>0.002745</td>\n",
              "      <td>88.300313</td>\n",
              "      <td>0.001067</td>\n",
              "    </tr>\n",
              "    <tr>\n",
              "      <th>std</th>\n",
              "      <td>47078.414315</td>\n",
              "      <td>1.821169</td>\n",
              "      <td>1.463114</td>\n",
              "      <td>1.542649</td>\n",
              "      <td>1.396927</td>\n",
              "      <td>1.325419</td>\n",
              "      <td>1.278059</td>\n",
              "      <td>1.191338</td>\n",
              "      <td>1.113649</td>\n",
              "      <td>1.081769</td>\n",
              "      <td>...</td>\n",
              "      <td>0.732830</td>\n",
              "      <td>0.701007</td>\n",
              "      <td>0.448814</td>\n",
              "      <td>0.598876</td>\n",
              "      <td>0.503256</td>\n",
              "      <td>0.473621</td>\n",
              "      <td>0.349162</td>\n",
              "      <td>0.283943</td>\n",
              "      <td>226.491008</td>\n",
              "      <td>0.032651</td>\n",
              "    </tr>\n",
              "    <tr>\n",
              "      <th>min</th>\n",
              "      <td>16.000000</td>\n",
              "      <td>-22.382092</td>\n",
              "      <td>-14.198653</td>\n",
              "      <td>-22.801238</td>\n",
              "      <td>-4.509231</td>\n",
              "      <td>-14.898113</td>\n",
              "      <td>-9.014296</td>\n",
              "      <td>-28.011293</td>\n",
              "      <td>-14.272909</td>\n",
              "      <td>-8.960922</td>\n",
              "      <td>...</td>\n",
              "      <td>-8.954836</td>\n",
              "      <td>-3.685480</td>\n",
              "      <td>-4.659394</td>\n",
              "      <td>-2.155474</td>\n",
              "      <td>-2.888726</td>\n",
              "      <td>-1.411300</td>\n",
              "      <td>-4.126746</td>\n",
              "      <td>-8.277924</td>\n",
              "      <td>0.000000</td>\n",
              "      <td>0.000000</td>\n",
              "    </tr>\n",
              "    <tr>\n",
              "      <th>25%</th>\n",
              "      <td>54105.000000</td>\n",
              "      <td>-0.910851</td>\n",
              "      <td>-0.591410</td>\n",
              "      <td>-0.923906</td>\n",
              "      <td>-0.853177</td>\n",
              "      <td>-0.707835</td>\n",
              "      <td>-0.753097</td>\n",
              "      <td>-0.566989</td>\n",
              "      <td>-0.201289</td>\n",
              "      <td>-0.651131</td>\n",
              "      <td>...</td>\n",
              "      <td>-0.215450</td>\n",
              "      <td>-0.547315</td>\n",
              "      <td>-0.170047</td>\n",
              "      <td>-0.358548</td>\n",
              "      <td>-0.308047</td>\n",
              "      <td>-0.321703</td>\n",
              "      <td>-0.064955</td>\n",
              "      <td>-0.051968</td>\n",
              "      <td>5.947500</td>\n",
              "      <td>0.000000</td>\n",
              "    </tr>\n",
              "    <tr>\n",
              "      <th>50%</th>\n",
              "      <td>82747.500000</td>\n",
              "      <td>0.030829</td>\n",
              "      <td>0.084125</td>\n",
              "      <td>0.198424</td>\n",
              "      <td>-0.040529</td>\n",
              "      <td>-0.068919</td>\n",
              "      <td>-0.264226</td>\n",
              "      <td>0.020956</td>\n",
              "      <td>0.031757</td>\n",
              "      <td>-0.069638</td>\n",
              "      <td>...</td>\n",
              "      <td>-0.033285</td>\n",
              "      <td>0.006427</td>\n",
              "      <td>-0.016030</td>\n",
              "      <td>0.041406</td>\n",
              "      <td>0.017555</td>\n",
              "      <td>-0.066024</td>\n",
              "      <td>0.005012</td>\n",
              "      <td>0.012332</td>\n",
              "      <td>20.620000</td>\n",
              "      <td>0.000000</td>\n",
              "    </tr>\n",
              "    <tr>\n",
              "      <th>75%</th>\n",
              "      <td>138360.250000</td>\n",
              "      <td>1.306062</td>\n",
              "      <td>0.796877</td>\n",
              "      <td>1.069414</td>\n",
              "      <td>0.752547</td>\n",
              "      <td>0.588138</td>\n",
              "      <td>0.388645</td>\n",
              "      <td>0.573145</td>\n",
              "      <td>0.323913</td>\n",
              "      <td>0.569575</td>\n",
              "      <td>...</td>\n",
              "      <td>0.181906</td>\n",
              "      <td>0.501251</td>\n",
              "      <td>0.140974</td>\n",
              "      <td>0.433512</td>\n",
              "      <td>0.360168</td>\n",
              "      <td>0.218691</td>\n",
              "      <td>0.096316</td>\n",
              "      <td>0.076824</td>\n",
              "      <td>76.292500</td>\n",
              "      <td>0.000000</td>\n",
              "    </tr>\n",
              "    <tr>\n",
              "      <th>max</th>\n",
              "      <td>169929.000000</td>\n",
              "      <td>2.360330</td>\n",
              "      <td>14.706335</td>\n",
              "      <td>3.486492</td>\n",
              "      <td>12.114672</td>\n",
              "      <td>12.116322</td>\n",
              "      <td>7.804425</td>\n",
              "      <td>12.164068</td>\n",
              "      <td>8.438878</td>\n",
              "      <td>9.077107</td>\n",
              "      <td>...</td>\n",
              "      <td>13.115579</td>\n",
              "      <td>3.488780</td>\n",
              "      <td>4.655025</td>\n",
              "      <td>3.633399</td>\n",
              "      <td>1.945840</td>\n",
              "      <td>2.400858</td>\n",
              "      <td>4.591214</td>\n",
              "      <td>5.678671</td>\n",
              "      <td>4337.000000</td>\n",
              "      <td>1.000000</td>\n",
              "    </tr>\n",
              "  </tbody>\n",
              "</table>\n",
              "<p>8 rows × 31 columns</p>\n",
              "</div>\n",
              "      <button class=\"colab-df-convert\" onclick=\"convertToInteractive('df-75261442-74f6-4408-8c19-8c1522978c6d')\"\n",
              "              title=\"Convert this dataframe to an interactive table.\"\n",
              "              style=\"display:none;\">\n",
              "        \n",
              "  <svg xmlns=\"http://www.w3.org/2000/svg\" height=\"24px\"viewBox=\"0 0 24 24\"\n",
              "       width=\"24px\">\n",
              "    <path d=\"M0 0h24v24H0V0z\" fill=\"none\"/>\n",
              "    <path d=\"M18.56 5.44l.94 2.06.94-2.06 2.06-.94-2.06-.94-.94-2.06-.94 2.06-2.06.94zm-11 1L8.5 8.5l.94-2.06 2.06-.94-2.06-.94L8.5 2.5l-.94 2.06-2.06.94zm10 10l.94 2.06.94-2.06 2.06-.94-2.06-.94-.94-2.06-.94 2.06-2.06.94z\"/><path d=\"M17.41 7.96l-1.37-1.37c-.4-.4-.92-.59-1.43-.59-.52 0-1.04.2-1.43.59L10.3 9.45l-7.72 7.72c-.78.78-.78 2.05 0 2.83L4 21.41c.39.39.9.59 1.41.59.51 0 1.02-.2 1.41-.59l7.78-7.78 2.81-2.81c.8-.78.8-2.07 0-2.86zM5.41 20L4 18.59l7.72-7.72 1.47 1.35L5.41 20z\"/>\n",
              "  </svg>\n",
              "      </button>\n",
              "      \n",
              "  <style>\n",
              "    .colab-df-container {\n",
              "      display:flex;\n",
              "      flex-wrap:wrap;\n",
              "      gap: 12px;\n",
              "    }\n",
              "\n",
              "    .colab-df-convert {\n",
              "      background-color: #E8F0FE;\n",
              "      border: none;\n",
              "      border-radius: 50%;\n",
              "      cursor: pointer;\n",
              "      display: none;\n",
              "      fill: #1967D2;\n",
              "      height: 32px;\n",
              "      padding: 0 0 0 0;\n",
              "      width: 32px;\n",
              "    }\n",
              "\n",
              "    .colab-df-convert:hover {\n",
              "      background-color: #E2EBFA;\n",
              "      box-shadow: 0px 1px 2px rgba(60, 64, 67, 0.3), 0px 1px 3px 1px rgba(60, 64, 67, 0.15);\n",
              "      fill: #174EA6;\n",
              "    }\n",
              "\n",
              "    [theme=dark] .colab-df-convert {\n",
              "      background-color: #3B4455;\n",
              "      fill: #D2E3FC;\n",
              "    }\n",
              "\n",
              "    [theme=dark] .colab-df-convert:hover {\n",
              "      background-color: #434B5C;\n",
              "      box-shadow: 0px 1px 3px 1px rgba(0, 0, 0, 0.15);\n",
              "      filter: drop-shadow(0px 1px 2px rgba(0, 0, 0, 0.3));\n",
              "      fill: #FFFFFF;\n",
              "    }\n",
              "  </style>\n",
              "\n",
              "      <script>\n",
              "        const buttonEl =\n",
              "          document.querySelector('#df-75261442-74f6-4408-8c19-8c1522978c6d button.colab-df-convert');\n",
              "        buttonEl.style.display =\n",
              "          google.colab.kernel.accessAllowed ? 'block' : 'none';\n",
              "\n",
              "        async function convertToInteractive(key) {\n",
              "          const element = document.querySelector('#df-75261442-74f6-4408-8c19-8c1522978c6d');\n",
              "          const dataTable =\n",
              "            await google.colab.kernel.invokeFunction('convertToInteractive',\n",
              "                                                     [key], {});\n",
              "          if (!dataTable) return;\n",
              "\n",
              "          const docLinkHtml = 'Like what you see? Visit the ' +\n",
              "            '<a target=\"_blank\" href=https://colab.research.google.com/notebooks/data_table.ipynb>data table notebook</a>'\n",
              "            + ' to learn more about interactive tables.';\n",
              "          element.innerHTML = '';\n",
              "          dataTable['output_type'] = 'display_data';\n",
              "          await google.colab.output.renderOutput(dataTable, element);\n",
              "          const docLink = document.createElement('div');\n",
              "          docLink.innerHTML = docLinkHtml;\n",
              "          element.appendChild(docLink);\n",
              "        }\n",
              "      </script>\n",
              "    </div>\n",
              "  </div>\n",
              "  "
            ]
          },
          "metadata": {},
          "execution_count": 10
        }
      ]
    },
    {
      "cell_type": "code",
      "source": [
        "# Plot histograms of each parameter \n",
        "data.hist(figsize = (20, 20))\n",
        "plt.show()"
      ],
      "metadata": {
        "colab": {
          "base_uri": "https://localhost:8080/",
          "height": 942
        },
        "id": "5-YgYdSyyfJM",
        "outputId": "9a681f92-f578-4165-95f5-e77085e33481"
      },
      "execution_count": null,
      "outputs": [
        {
          "output_type": "display_data",
          "data": {
            "text/plain": [
              "<Figure size 1440x1440 with 36 Axes>"
            ],
            "image/png": "[encoded data removed]"
          },
          "metadata": {
            "needs_background": "light"
          }
        }
      ]
    },
    {
      "cell_type": "code",
      "source": [
        "# Determine number of fraud cases in dataset\n",
        "\n",
        "Fraud = data[data['Class'] == 1]\n",
        "Valid = data[data['Class'] == 0]\n",
        "\n",
        "outlier_fraction = len(Fraud)/float(len(Valid))\n",
        "print(outlier_fraction)\n",
        "\n",
        "print('Fraud Cases: {}'.format(len(data[data['Class'] == 1])))\n",
        "print('Valid Transactions: {}'.format(len(data[data['Class'] == 0])))"
      ],
      "metadata": {
        "colab": {
          "base_uri": "https://localhost:8080/"
        },
        "id": "hQNX2KU5zKvP",
        "outputId": "0063f1c0-27c7-4be9-e67e-80d31401b136"
      },
      "execution_count": null,
      "outputs": [
        {
          "output_type": "stream",
          "name": "stdout",
          "text": [
            "0.0035714285714285713\n",
            "Fraud Cases: 1\n",
            "Valid Transactions: 280\n"
          ]
        }
      ]
    },
    {
      "cell_type": "code",
      "source": [
        "# Correlation matrix\n",
        "corrmat = data.corr()\n",
        "fig = plt.figure(figsize = (12, 9))\n",
        "\n",
        "sns.heatmap(corrmat, vmax = .8, square = True)\n",
        "plt.show()\n"
      ],
      "metadata": {
        "colab": {
          "base_uri": "https://localhost:8080/",
          "height": 570
        },
        "id": "yl1I1LXXzMbP",
        "outputId": "6dfc4cca-7fe6-4adb-c202-fa6e78c866f6"
      },
      "execution_count": null,
      "outputs": [
        {
          "output_type": "display_data",
          "data": {
            "text/plain": [
              "<Figure size 864x648 with 2 Axes>"
            ],
            "image/png": "[encoded data removed]"
          },
          "metadata": {
            "needs_background": "light"
          }
        }
      ]
    },
    {
      "cell_type": "code",
      "source": [
        "# Get all the columns from the dataFrame\n",
        "columns = data.columns.tolist()"
      ],
      "metadata": {
        "id": "6tKAe1xpzTjf"
      },
      "execution_count": null,
      "outputs": []
    },
    {
      "cell_type": "code",
      "source": [
        "# Filter the columns to remove data we do not want\n",
        "columns = [c for c in columns if c not in [\"Class\"]]"
      ],
      "metadata": {
        "id": "D51uD15yzdVv"
      },
      "execution_count": null,
      "outputs": []
    },
    {
      "cell_type": "code",
      "source": [
        "# Store the variable we'll be predicting on\n",
        "target = \"Class\"\n",
        "\n",
        "X = data[columns]\n",
        "Y = data[target]"
      ],
      "metadata": {
        "id": "Kw87tl_zzmG7"
      },
      "execution_count": null,
      "outputs": []
    },
    {
      "cell_type": "code",
      "source": [
        "# Print shapes\n",
        "print(X.shape)\n",
        "print(Y.shape)\n",
        "\n",
        "from sklearn.metrics import classification_report, accuracy_score\n",
        "from sklearn.ensemble import IsolationForest\n",
        "from sklearn.neighbors import LocalOutlierFactor"
      ],
      "metadata": {
        "colab": {
          "base_uri": "https://localhost:8080/"
        },
        "id": "4fSE5gCGzsqI",
        "outputId": "39b16936-e9fd-4646-e3af-2d3356c675d7"
      },
      "execution_count": null,
      "outputs": [
        {
          "output_type": "stream",
          "name": "stdout",
          "text": [
            "(281, 30)\n",
            "(281,)\n"
          ]
        }
      ]
    },
    {
      "cell_type": "code",
      "source": [
        "# define random states\n",
        "state = 1"
      ],
      "metadata": {
        "id": "znsT8TBYz0GA"
      },
      "execution_count": null,
      "outputs": []
    },
    {
      "cell_type": "code",
      "source": [
        "# define outlier detection tools to be compared\n",
        "classifiers = {\n",
        "    \"Isolation Forest\": IsolationForest(max_samples=len(X),\n",
        "                                        contamination=outlier_fraction,\n",
        "                                        random_state=state),\n",
        "    \"Local Outlier Factor\": LocalOutlierFactor(\n",
        "        n_neighbors=20,\n",
        "        contamination=outlier_fraction)}\n",
        "    \n",
        "plt.figure(figsize=(9, 7))\n",
        "n_outliers = len(Fraud)\n",
        "\n",
        "\n",
        "for i, (clf_name, clf) in enumerate(classifiers.items()):\n",
        "    \n",
        "    # fit the data and tag outliers\n",
        "    if clf_name == \"Local Outlier Factor\":\n",
        "        y_pred = clf.fit_predict(X)\n",
        "        scores_pred = clf.negative_outlier_factor_\n",
        "    else:\n",
        "        clf.fit(X)\n",
        "        scores_pred = clf.decision_function(X)\n",
        "        y_pred = clf.predict(X)\n",
        "    \n",
        "    # Reshape the prediction values to 0 for valid, 1 for fraud. \n",
        "    y_pred[y_pred == 1] = 0\n",
        "    y_pred[y_pred == -1] = 1\n",
        "    \n",
        "    n_errors = (y_pred != Y).sum()\n"
      ],
      "metadata": {
        "colab": {
          "base_uri": "https://localhost:8080/",
          "height": 89
        },
        "id": "zlvSxHYz0DPQ",
        "outputId": "74b938a9-9078-48b8-a40a-744c5b607ae1"
      },
      "execution_count": null,
      "outputs": [
        {
          "output_type": "stream",
          "name": "stderr",
          "text": [
            "/usr/local/lib/python3.7/dist-packages/sklearn/base.py:451: UserWarning: X does not have valid feature names, but IsolationForest was fitted with feature names\n",
            "  \"X does not have valid feature names, but\"\n"
          ]
        },
        {
          "output_type": "display_data",
          "data": {
            "text/plain": [
              "<Figure size 648x504 with 0 Axes>"
            ]
          },
          "metadata": {}
        }
      ]
    },
    {
      "cell_type": "code",
      "source": [
        "# Run classification metrics\n",
        "print('{}: {}'.format(clf_name, n_errors))\n",
        "print(accuracy_score(Y, y_pred))\n",
        "print(classification_report(Y, y_pred))"
      ],
      "metadata": {
        "colab": {
          "base_uri": "https://localhost:8080/"
        },
        "id": "jXsNWER_0Jir",
        "outputId": "b9c85327-6812-47c7-bef4-2c35352243cf"
      },
      "execution_count": null,
      "outputs": [
        {
          "output_type": "stream",
          "name": "stdout",
          "text": [
            "Local Outlier Factor: 2\n",
            "0.9928825622775801\n",
            "              precision    recall  f1-score   support\n",
            "\n",
            "         0.0       1.00      1.00      1.00       280\n",
            "         1.0       0.00      0.00      0.00         1\n",
            "\n",
            "    accuracy                           0.99       281\n",
            "   macro avg       0.50      0.50      0.50       281\n",
            "weighted avg       0.99      0.99      0.99       281\n",
            "\n"
          ]
        }
      ]
    }
  ]
}